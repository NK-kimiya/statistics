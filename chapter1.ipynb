{
  "nbformat": 4,
  "nbformat_minor": 0,
  "metadata": {
    "colab": {
      "provenance": []
    },
    "kernelspec": {
      "name": "python3",
      "display_name": "Python 3"
    },
    "language_info": {
      "name": "python"
    }
  },
  "cells": [
    {
      "cell_type": "code",
      "execution_count": null,
      "metadata": {
        "id": "76LdcWhofkxn"
      },
      "outputs": [],
      "source": [
        "import numpy as np\n",
        "import pandas as pd"
      ]
    },
    {
      "cell_type": "code",
      "source": [
        "#１：リストの作成\n",
        "sample_list = [1,2,3,4,5]\n",
        "sample_list\n",
        "\n",
        "#Numpyを使って、配列を作成\n",
        "sample_array = np.array([1,2,3,4,5])\n",
        "sample_array\n",
        "\n",
        "np.array([1,2,'A'])"
      ],
      "metadata": {
        "colab": {
          "base_uri": "https://localhost:8080/"
        },
        "id": "dQldPTa4fm6q",
        "outputId": "8bf6279a-7c90-4a20-b3ec-7288e5e54eac"
      },
      "execution_count": null,
      "outputs": [
        {
          "output_type": "execute_result",
          "data": {
            "text/plain": [
              "array(['1', '2', 'A'], dtype='<U21')"
            ]
          },
          "metadata": {},
          "execution_count": 4
        }
      ]
    },
    {
      "cell_type": "code",
      "source": [
        "#２：Numpy配列の演算\n",
        "print(sample_array + 1)\n",
        "print(sample_array * 2)"
      ],
      "metadata": {
        "colab": {
          "base_uri": "https://localhost:8080/"
        },
        "id": "DT7ybO_Qfq86",
        "outputId": "47a03796-6066-4156-e38d-b354bedcdca7"
      },
      "execution_count": null,
      "outputs": [
        {
          "output_type": "stream",
          "name": "stdout",
          "text": [
            "[2 3 4 5 6]\n",
            "[ 2  4  6  8 10]\n"
          ]
        }
      ]
    },
    {
      "cell_type": "code",
      "source": [
        "#３：Numpyの2次元配列\n",
        "sample_array_2 = np.array([[1,2,3,4,5],[6,7,8,9,10]])\n",
        "print(sample_array_2)\n",
        "\n",
        "print(sample_array_2.shape)"
      ],
      "metadata": {
        "colab": {
          "base_uri": "https://localhost:8080/"
        },
        "id": "bc3szhefgSYg",
        "outputId": "a57feee6-da81-4d2d-8728-a42398f559fb"
      },
      "execution_count": null,
      "outputs": [
        {
          "output_type": "stream",
          "name": "stdout",
          "text": [
            "[[ 1  2  3  4  5]\n",
            " [ 6  7  8  9 10]]\n",
            "(2, 5)\n"
          ]
        }
      ]
    },
    {
      "cell_type": "code",
      "source": [
        "#４：等差数列の作成\n",
        "print(np.arange(start=1,stop=6,step=1))\n",
        "print(np.arange(start=0.1,stop=0.8,step=0.2))\n",
        "print(np.linspace(start=1,stop=5,num=5))\n",
        "print(np.linspace(start=1,stop=5,num=11))\n",
        "print(np.linspace(start=0.1,stop=0.7,num=4))"
      ],
      "metadata": {
        "colab": {
          "base_uri": "https://localhost:8080/"
        },
        "id": "0TuGzp3TgnRy",
        "outputId": "fc95622f-3f40-48f7-9b77-7175d4910fe6"
      },
      "execution_count": null,
      "outputs": [
        {
          "output_type": "stream",
          "name": "stdout",
          "text": [
            "[1 2 3 4 5]\n",
            "[0.1 0.3 0.5 0.7]\n",
            "[1. 2. 3. 4. 5.]\n",
            "[1.  1.4 1.8 2.2 2.6 3.  3.4 3.8 4.2 4.6 5. ]\n",
            "[0.1 0.3 0.5 0.7]\n"
          ]
        }
      ]
    },
    {
      "cell_type": "code",
      "source": [
        "#５：様々なアレイの作成\n",
        "\n",
        "#要素を指定回数繰り返し並べた配列\n",
        "print(np.tile('A',5))\n",
        "#0を4回並べた配列\n",
        "print(np.tile(0,4))\n",
        "#0.0の初期化された配列で要素は4つ\n",
        "print(np.zeros(4))\n",
        "#2次元の0.0配列で2行3列\n",
        "print(np.zeros([2,3]))\n",
        "#1.0で初期化された配列\n",
        "print(np.ones(3))"
      ],
      "metadata": {
        "colab": {
          "base_uri": "https://localhost:8080/"
        },
        "id": "1tfkfevqg22x",
        "outputId": "3be32296-fe59-4a5d-e3fd-3aa2ee274ee4"
      },
      "execution_count": null,
      "outputs": [
        {
          "output_type": "stream",
          "name": "stdout",
          "text": [
            "['A' 'A' 'A' 'A' 'A']\n",
            "[0 0 0 0]\n",
            "[0. 0. 0. 0.]\n",
            "[[0. 0. 0.]\n",
            " [0. 0. 0.]]\n",
            "[1. 1. 1.]\n"
          ]
        }
      ]
    },
    {
      "cell_type": "code",
      "source": [
        "#６：スライス、範囲指定で配列要素を取得\n",
        "\n",
        "#1次元配列の作成\n",
        "d1_array = np.array([1,2,3,4,5])\n",
        "print(d1_array)\n",
        "#配列の0番目の要素を取り出す\n",
        "print(d1_array[0])\n",
        "#インデックス1番と2番の要素をまとめて取り出す\n",
        "print(d1_array[[1,2]])\n",
        "#スライス（範囲指定）で、インデックス1から2までの要素を取り出す\n",
        "print(d1_array[1:3])\n",
        "#二次元（2D）配列を作成\n",
        "d2_array = np.array(\n",
        "    [[1,2,3,4,5],\n",
        "     [6,7,8,9,10]])\n",
        "print(d2_array)\n",
        "#0行目・3列目の要素を取り出す\n",
        "print(d2_array[0,3])\n",
        "#1行目の2列目から3列目まで（4列目未満）を取り出す\n",
        "print(d2_array[1,2:4])"
      ],
      "metadata": {
        "colab": {
          "base_uri": "https://localhost:8080/"
        },
        "id": "2OQXA7UZiM7J",
        "outputId": "7aa82ca0-c055-4e6a-903f-b634250ecfb7"
      },
      "execution_count": null,
      "outputs": [
        {
          "output_type": "stream",
          "name": "stdout",
          "text": [
            "[1 2 3 4 5]\n",
            "1\n",
            "[2 3]\n",
            "[2 3]\n",
            "[[ 1  2  3  4  5]\n",
            " [ 6  7  8  9 10]]\n",
            "4\n",
            "[8 9]\n"
          ]
        }
      ]
    },
    {
      "cell_type": "code",
      "source": [
        "#７：データフレーム\n",
        "sample_df = pd.DataFrame({\n",
        "    'col1':sample_array,\n",
        "    'col2':sample_array*2,\n",
        "    'col3':['A','B','C','D','E']\n",
        "})\n",
        "print(sample_df)"
      ],
      "metadata": {
        "colab": {
          "base_uri": "https://localhost:8080/"
        },
        "id": "-7GEg1I3iUb4",
        "outputId": "87cf226f-2ada-49a4-e838-7f481bde6bfe"
      },
      "execution_count": null,
      "outputs": [
        {
          "output_type": "stream",
          "name": "stdout",
          "text": [
            "   col1  col2 col3\n",
            "0     1     2    A\n",
            "1     2     4    B\n",
            "2     3     6    C\n",
            "3     4     8    D\n",
            "4     5    10    E\n"
          ]
        }
      ]
    },
    {
      "cell_type": "code",
      "source": [
        "from google.colab import files\n",
        "uploaded = files.upload()"
      ],
      "metadata": {
        "colab": {
          "base_uri": "https://localhost:8080/",
          "height": 78
        },
        "id": "9I2MVPrGjyPJ",
        "outputId": "a44f23e0-a2ab-4e10-eb19-ace7e1a4b029"
      },
      "execution_count": 31,
      "outputs": [
        {
          "output_type": "display_data",
          "data": {
            "text/plain": [
              "<IPython.core.display.HTML object>"
            ],
            "text/html": [
              "\n",
              "     <input type=\"file\" id=\"files-64655d70-33a0-4958-ab84-a7e43fdeed72\" name=\"files[]\" multiple disabled\n",
              "        style=\"border:none\" />\n",
              "     <output id=\"result-64655d70-33a0-4958-ab84-a7e43fdeed72\">\n",
              "      Upload widget is only available when the cell has been executed in the\n",
              "      current browser session. Please rerun this cell to enable.\n",
              "      </output>\n",
              "      <script>// Copyright 2017 Google LLC\n",
              "//\n",
              "// Licensed under the Apache License, Version 2.0 (the \"License\");\n",
              "// you may not use this file except in compliance with the License.\n",
              "// You may obtain a copy of the License at\n",
              "//\n",
              "//      http://www.apache.org/licenses/LICENSE-2.0\n",
              "//\n",
              "// Unless required by applicable law or agreed to in writing, software\n",
              "// distributed under the License is distributed on an \"AS IS\" BASIS,\n",
              "// WITHOUT WARRANTIES OR CONDITIONS OF ANY KIND, either express or implied.\n",
              "// See the License for the specific language governing permissions and\n",
              "// limitations under the License.\n",
              "\n",
              "/**\n",
              " * @fileoverview Helpers for google.colab Python module.\n",
              " */\n",
              "(function(scope) {\n",
              "function span(text, styleAttributes = {}) {\n",
              "  const element = document.createElement('span');\n",
              "  element.textContent = text;\n",
              "  for (const key of Object.keys(styleAttributes)) {\n",
              "    element.style[key] = styleAttributes[key];\n",
              "  }\n",
              "  return element;\n",
              "}\n",
              "\n",
              "// Max number of bytes which will be uploaded at a time.\n",
              "const MAX_PAYLOAD_SIZE = 100 * 1024;\n",
              "\n",
              "function _uploadFiles(inputId, outputId) {\n",
              "  const steps = uploadFilesStep(inputId, outputId);\n",
              "  const outputElement = document.getElementById(outputId);\n",
              "  // Cache steps on the outputElement to make it available for the next call\n",
              "  // to uploadFilesContinue from Python.\n",
              "  outputElement.steps = steps;\n",
              "\n",
              "  return _uploadFilesContinue(outputId);\n",
              "}\n",
              "\n",
              "// This is roughly an async generator (not supported in the browser yet),\n",
              "// where there are multiple asynchronous steps and the Python side is going\n",
              "// to poll for completion of each step.\n",
              "// This uses a Promise to block the python side on completion of each step,\n",
              "// then passes the result of the previous step as the input to the next step.\n",
              "function _uploadFilesContinue(outputId) {\n",
              "  const outputElement = document.getElementById(outputId);\n",
              "  const steps = outputElement.steps;\n",
              "\n",
              "  const next = steps.next(outputElement.lastPromiseValue);\n",
              "  return Promise.resolve(next.value.promise).then((value) => {\n",
              "    // Cache the last promise value to make it available to the next\n",
              "    // step of the generator.\n",
              "    outputElement.lastPromiseValue = value;\n",
              "    return next.value.response;\n",
              "  });\n",
              "}\n",
              "\n",
              "/**\n",
              " * Generator function which is called between each async step of the upload\n",
              " * process.\n",
              " * @param {string} inputId Element ID of the input file picker element.\n",
              " * @param {string} outputId Element ID of the output display.\n",
              " * @return {!Iterable<!Object>} Iterable of next steps.\n",
              " */\n",
              "function* uploadFilesStep(inputId, outputId) {\n",
              "  const inputElement = document.getElementById(inputId);\n",
              "  inputElement.disabled = false;\n",
              "\n",
              "  const outputElement = document.getElementById(outputId);\n",
              "  outputElement.innerHTML = '';\n",
              "\n",
              "  const pickedPromise = new Promise((resolve) => {\n",
              "    inputElement.addEventListener('change', (e) => {\n",
              "      resolve(e.target.files);\n",
              "    });\n",
              "  });\n",
              "\n",
              "  const cancel = document.createElement('button');\n",
              "  inputElement.parentElement.appendChild(cancel);\n",
              "  cancel.textContent = 'Cancel upload';\n",
              "  const cancelPromise = new Promise((resolve) => {\n",
              "    cancel.onclick = () => {\n",
              "      resolve(null);\n",
              "    };\n",
              "  });\n",
              "\n",
              "  // Wait for the user to pick the files.\n",
              "  const files = yield {\n",
              "    promise: Promise.race([pickedPromise, cancelPromise]),\n",
              "    response: {\n",
              "      action: 'starting',\n",
              "    }\n",
              "  };\n",
              "\n",
              "  cancel.remove();\n",
              "\n",
              "  // Disable the input element since further picks are not allowed.\n",
              "  inputElement.disabled = true;\n",
              "\n",
              "  if (!files) {\n",
              "    return {\n",
              "      response: {\n",
              "        action: 'complete',\n",
              "      }\n",
              "    };\n",
              "  }\n",
              "\n",
              "  for (const file of files) {\n",
              "    const li = document.createElement('li');\n",
              "    li.append(span(file.name, {fontWeight: 'bold'}));\n",
              "    li.append(span(\n",
              "        `(${file.type || 'n/a'}) - ${file.size} bytes, ` +\n",
              "        `last modified: ${\n",
              "            file.lastModifiedDate ? file.lastModifiedDate.toLocaleDateString() :\n",
              "                                    'n/a'} - `));\n",
              "    const percent = span('0% done');\n",
              "    li.appendChild(percent);\n",
              "\n",
              "    outputElement.appendChild(li);\n",
              "\n",
              "    const fileDataPromise = new Promise((resolve) => {\n",
              "      const reader = new FileReader();\n",
              "      reader.onload = (e) => {\n",
              "        resolve(e.target.result);\n",
              "      };\n",
              "      reader.readAsArrayBuffer(file);\n",
              "    });\n",
              "    // Wait for the data to be ready.\n",
              "    let fileData = yield {\n",
              "      promise: fileDataPromise,\n",
              "      response: {\n",
              "        action: 'continue',\n",
              "      }\n",
              "    };\n",
              "\n",
              "    // Use a chunked sending to avoid message size limits. See b/62115660.\n",
              "    let position = 0;\n",
              "    do {\n",
              "      const length = Math.min(fileData.byteLength - position, MAX_PAYLOAD_SIZE);\n",
              "      const chunk = new Uint8Array(fileData, position, length);\n",
              "      position += length;\n",
              "\n",
              "      const base64 = btoa(String.fromCharCode.apply(null, chunk));\n",
              "      yield {\n",
              "        response: {\n",
              "          action: 'append',\n",
              "          file: file.name,\n",
              "          data: base64,\n",
              "        },\n",
              "      };\n",
              "\n",
              "      let percentDone = fileData.byteLength === 0 ?\n",
              "          100 :\n",
              "          Math.round((position / fileData.byteLength) * 100);\n",
              "      percent.textContent = `${percentDone}% done`;\n",
              "\n",
              "    } while (position < fileData.byteLength);\n",
              "  }\n",
              "\n",
              "  // All done.\n",
              "  yield {\n",
              "    response: {\n",
              "      action: 'complete',\n",
              "    }\n",
              "  };\n",
              "}\n",
              "\n",
              "scope.google = scope.google || {};\n",
              "scope.google.colab = scope.google.colab || {};\n",
              "scope.google.colab._files = {\n",
              "  _uploadFiles,\n",
              "  _uploadFilesContinue,\n",
              "};\n",
              "})(self);\n",
              "</script> "
            ]
          },
          "metadata": {}
        },
        {
          "output_type": "stream",
          "name": "stdout",
          "text": [
            "Saving 2-4-1-sample_data.csv to 2-4-1-sample_data.csv\n"
          ]
        }
      ]
    },
    {
      "cell_type": "code",
      "source": [
        "#８：ファイルデータの読み込み\n",
        "file_data = pd.read_csv('2-4-1-sample_data.csv')\n",
        "print(file_data)"
      ],
      "metadata": {
        "id": "EXU1GeJlkP12",
        "colab": {
          "base_uri": "https://localhost:8080/"
        },
        "outputId": "5b2924ff-3b71-4fb5-ce82-7ca7240a9dc7"
      },
      "execution_count": 32,
      "outputs": [
        {
          "output_type": "stream",
          "name": "stdout",
          "text": [
            "   col1 col2\n",
            "0     1    A\n",
            "1     2    A\n",
            "2     3    B\n",
            "3     4    B\n",
            "4     5    C\n",
            "5     6    C\n"
          ]
        }
      ]
    },
    {
      "cell_type": "code",
      "source": [
        "#９：データフレームの結合\n",
        "df_1 = pd.DataFrame({\n",
        "    'col1' : np.array([1,2,3]),\n",
        "    'col2' : np.array(['A','B','C'])\n",
        "})\n",
        "df_2 = pd.DataFrame({\n",
        "    'col1':np.array([4,5,6]),\n",
        "    'col2':np.array(['D','E','F'])\n",
        "})\n",
        "#縦方向に結合\n",
        "print(pd.concat([df_1,df_2]))\n",
        "\n",
        "#横方向に結合\n",
        "print(pd.concat([df_1,df_2],axis = 1))"
      ],
      "metadata": {
        "colab": {
          "base_uri": "https://localhost:8080/"
        },
        "id": "Des-G4N7m5Rp",
        "outputId": "fd3d86c8-3673-4364-fee4-27d6fccbd89d"
      },
      "execution_count": 33,
      "outputs": [
        {
          "output_type": "stream",
          "name": "stdout",
          "text": [
            "   col1 col2\n",
            "0     1    A\n",
            "1     2    B\n",
            "2     3    C\n",
            "0     4    D\n",
            "1     5    E\n",
            "2     6    F\n",
            "   col1 col2  col1 col2\n",
            "0     1    A     4    D\n",
            "1     2    B     5    E\n",
            "2     3    C     6    F\n"
          ]
        }
      ]
    },
    {
      "cell_type": "code",
      "source": [
        "#１０：特定の列を取得・削除\n",
        "print(sample_df)\n",
        "#col2を取得\n",
        "print(\"------------------\")\n",
        "print(sample_df.col2)\n",
        "print(\"------------------\")\n",
        "print(sample_df['col2'])\n",
        "print(\"------------------\")\n",
        "#複数列を抽出\n",
        "print(sample_df[['col2','col3']])\n",
        "print(\"------------------\")\n",
        "#特定の列を削除\n",
        "print(sample_df.drop('col1',axis=1))"
      ],
      "metadata": {
        "colab": {
          "base_uri": "https://localhost:8080/"
        },
        "id": "5BWz3UX0nKfx",
        "outputId": "c6662d3b-a1ce-41b4-f420-573c079b5607"
      },
      "execution_count": 39,
      "outputs": [
        {
          "output_type": "stream",
          "name": "stdout",
          "text": [
            "   col1  col2 col3\n",
            "0     1     2    A\n",
            "1     2     4    B\n",
            "2     3     6    C\n",
            "3     4     8    D\n",
            "4     5    10    E\n",
            "------------------\n",
            "0     2\n",
            "1     4\n",
            "2     6\n",
            "3     8\n",
            "4    10\n",
            "Name: col2, dtype: int64\n",
            "------------------\n",
            "0     2\n",
            "1     4\n",
            "2     6\n",
            "3     8\n",
            "4    10\n",
            "Name: col2, dtype: int64\n",
            "------------------\n",
            "   col2 col3\n",
            "0     2    A\n",
            "1     4    B\n",
            "2     6    C\n",
            "3     8    D\n",
            "4    10    E\n",
            "   col2 col3\n",
            "0     2    A\n",
            "1     4    B\n",
            "2     6    C\n",
            "3     8    D\n",
            "4    10    E\n"
          ]
        }
      ]
    },
    {
      "cell_type": "code",
      "source": [
        "#１１：行の抽出\n",
        "\n",
        "#最初の3行を取得\n",
        "print(sample_df.head(n=3))\n",
        "print(\"------------------\")\n",
        "#抽出条件を指定\n",
        "print(sample_df.query('index == 0'))\n",
        "print(\"------------------\")\n",
        "#col3という列の値がAである行のみを抽出\n",
        "print(sample_df.query('col3 == \"A\"'))\n",
        "print(\"------------------\")\n",
        "#OR条件の抽出\n",
        "print(sample_df.query('col3 == \"A\" | col3 == \"D\"'))\n",
        "print(\"------------------\")\n",
        "#AND条件の抽出\n",
        "print(sample_df.query('col3 == \"A\" & col1 == 3'))\n",
        "print(\"------------------\")\n",
        "#行と列の抽出\n",
        "print(sample_df.query('col3 == \"A\"')[['col2','col3']])"
      ],
      "metadata": {
        "colab": {
          "base_uri": "https://localhost:8080/"
        },
        "id": "FHYmYld1npgn",
        "outputId": "7b795e3e-5599-4268-fa90-b272ae7c6734"
      },
      "execution_count": 42,
      "outputs": [
        {
          "output_type": "stream",
          "name": "stdout",
          "text": [
            "   col1  col2 col3\n",
            "0     1     2    A\n",
            "1     2     4    B\n",
            "2     3     6    C\n",
            "------------------\n",
            "   col1  col2 col3\n",
            "0     1     2    A\n",
            "------------------\n",
            "   col1  col2 col3\n",
            "0     1     2    A\n",
            "------------------\n",
            "   col1  col2 col3\n",
            "0     1     2    A\n",
            "3     4     8    D\n",
            "------------------\n",
            "Empty DataFrame\n",
            "Columns: [col1, col2, col3]\n",
            "Index: []\n",
            "------------------\n",
            "   col2 col3\n",
            "0     2    A\n"
          ]
        }
      ]
    },
    {
      "cell_type": "code",
      "source": [
        "#１２：DataFrame型の列や行のSeries型をNumpy配列に変換\n",
        "\n",
        "#PandasのDataFrame型\n",
        "print(type(sample_df))\n",
        "#col1列だけを取り出す。型はSeries型\n",
        "print(type(sample_df.col1))\n",
        "#col1列をNumPy配列に変換\n",
        "print(type(np.array(sample_df.col1)))\n",
        "#Pandasの公式な変換メソッドを使って、NumPy配列に変換\n",
        "print(type(sample_df.col1.to_numpy()))"
      ],
      "metadata": {
        "colab": {
          "base_uri": "https://localhost:8080/"
        },
        "id": "q8EDQTQWofCQ",
        "outputId": "0f620674-c833-4ef4-ba18-bab596b6ad2f"
      },
      "execution_count": 43,
      "outputs": [
        {
          "output_type": "stream",
          "name": "stdout",
          "text": [
            "<class 'pandas.core.frame.DataFrame'>\n",
            "<class 'pandas.core.series.Series'>\n",
            "<class 'numpy.ndarray'>\n",
            "<class 'numpy.ndarray'>\n"
          ]
        }
      ]
    },
    {
      "cell_type": "code",
      "source": [],
      "metadata": {
        "id": "ksg0sG10q2LI"
      },
      "execution_count": null,
      "outputs": []
    }
  ]
}